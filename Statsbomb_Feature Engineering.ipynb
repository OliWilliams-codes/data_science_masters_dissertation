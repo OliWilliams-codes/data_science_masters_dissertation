{
  "cells": [
    {
      "cell_type": "markdown",
      "metadata": {
        "id": "Hv3wLMJDhcnC"
      },
      "source": [
        "# Introduction"
      ]
    },
    {
      "cell_type": "markdown",
      "metadata": {
        "id": "CO6jONMOzqrg"
      },
      "source": [
        "This code takes the statbomb data. It applies feature engineering by event type to summarise events across a match.\n"
      ]
    },
    {
      "cell_type": "markdown",
      "metadata": {
        "id": "JNa3ncBOi-L3"
      },
      "source": [
        "# Configuration"
      ]
    },
    {
      "cell_type": "code",
      "execution_count": 1,
      "metadata": {
        "id": "8Qwrjgfz_WD_"
      },
      "outputs": [],
      "source": [
        "# game chunk file size set to avoid code crashes\n",
        "chunk_size = 250\n",
        "#chunk selection\n",
        "a=0\n",
        "#chunk file export\n",
        "b=1\n"
      ]
    },
    {
      "cell_type": "code",
      "source": [
        "!pip install statsbombpy\n"
      ],
      "metadata": {
        "id": "uDs_MZlpOogd"
      },
      "execution_count": null,
      "outputs": []
    },
    {
      "cell_type": "code",
      "source": [
        "from statsbombpy import sb\n",
        "import pandas as pd\n"
      ],
      "metadata": {
        "id": "TYT81bYvOtBE"
      },
      "execution_count": null,
      "outputs": []
    },
    {
      "cell_type": "markdown",
      "metadata": {
        "id": "di9V8oE5kD38"
      },
      "source": [
        "The statsbombpy automatically interact with repository. For more details you can access to github."
      ]
    },
    {
      "cell_type": "markdown",
      "metadata": {
        "id": "L4W4ijLYkt2x"
      },
      "source": [
        "\n",
        "https://github.com/statsbomb/open-data"
      ]
    },
    {
      "cell_type": "code",
      "execution_count": null,
      "metadata": {
        "id": "syl6br3JkVF-"
      },
      "outputs": [],
      "source": [
        "df_competitions = sb.competitions()\n",
        "df_competitions.head()"
      ]
    },
    {
      "cell_type": "markdown",
      "source": [
        "Filters need setting to select matches of interest"
      ],
      "metadata": {
        "id": "tKkSccq2lrzB"
      }
    },
    {
      "cell_type": "code",
      "execution_count": null,
      "metadata": {
        "id": "v2Xa-V7h97Qm"
      },
      "outputs": [],
      "source": [
        "# filter games of interest\n",
        "df_competitions['season_year'] = df_competitions['season_name'].str[-4:].astype(int)\n",
        "df_competitions_filtered = df_competitions[\n",
        "    (df_competitions['season_year'] > 2000) &\n",
        "    (df_competitions['competition_international'] == False) &\n",
        "    (df_competitions['competition_youth'] == False) &\n",
        "    (df_competitions['competition_gender'] == 'male')\n",
        "]\n",
        "df_competitions_filtered"
      ]
    },
    {
      "cell_type": "markdown",
      "metadata": {
        "id": "HbAHDRJHk6nQ"
      },
      "source": [
        "https://github.com/statsbomb/open-data/blob/master/data/competitions.json\n",
        "\n",
        "\n",
        "\n"
      ]
    },
    {
      "cell_type": "code",
      "execution_count": null,
      "metadata": {
        "id": "rPYi-tBlB5YV"
      },
      "outputs": [],
      "source": [
        "\n",
        "import warnings\n",
        "\n",
        "# Suppress UserWarnings related to mplsoccer\n",
        "warnings.filterwarnings(\"ignore\", category=UserWarning, module=\"mplsoccer\")\n",
        "\n",
        "\n",
        "all_matches = []\n",
        "for index, row in df_competitions_filtered.iterrows():\n",
        "    competition_id = row['competition_id']\n",
        "    season_id = row['season_id']\n",
        "    try:\n",
        "        df_matches = sb.matches(competition_id=competition_id, season_id=season_id)\n",
        "        all_matches.append(df_matches)\n",
        "    except Exception as e:\n",
        "        print(f\"Could not retrieve matches for competition_id: {competition_id}, season_id: {season_id}. Error: {e}\")\n",
        "\n",
        "if all_matches:\n",
        "    df_all_matches = pd.concat(all_matches, ignore_index=True)\n",
        "    print(df_all_matches.head())\n",
        "else:\n",
        "    print(\"No matches data retrieved.\")\n",
        "\n",
        "\n",
        "df_all_matches"
      ]
    },
    {
      "cell_type": "code",
      "execution_count": null,
      "metadata": {
        "id": "D3L2VZp93_pS"
      },
      "outputs": [],
      "source": [
        "#take competition and match_id columns from df_all_matches\n",
        "\n",
        "df_selected_cols = df_all_matches[['competition', 'match_id','season']]\n",
        "print(df_selected_cols.head())"
      ]
    },
    {
      "cell_type": "code",
      "execution_count": null,
      "metadata": {
        "id": "Eenik7g7mNwo"
      },
      "outputs": [],
      "source": [
        "df_wwc = df_all_matches"
      ]
    },
    {
      "cell_type": "code",
      "execution_count": null,
      "metadata": {
        "id": "Ip8yNS923lC8"
      },
      "outputs": [],
      "source": [
        "\n",
        "df_wwc_subset = df_wwc[['match_id', 'kick_off', 'match_week']].copy()\n",
        "df_wwc_subset['kick_off_hour'] = pd.to_datetime(df_wwc_subset['kick_off']).dt.hour\n",
        "df_wwc_subset = df_wwc_subset.drop(columns=['kick_off'])\n",
        "df_wwc_subset"
      ]
    },
    {
      "cell_type": "code",
      "execution_count": null,
      "metadata": {
        "id": "WH5pm_2OA8GC"
      },
      "outputs": [],
      "source": [
        "matchids=df_wwc['match_id'].unique()\n",
        "print(matchids)"
      ]
    },
    {
      "cell_type": "code",
      "execution_count": null,
      "metadata": {
        "id": "GM2WF892cltZ"
      },
      "outputs": [],
      "source": [
        "\n",
        "# Group match ids into chunks to manage file size\n",
        "match_id_chunks = [matchids[i:i + chunk_size] for i in range(0, len(matchids), chunk_size)]\n",
        "\n",
        "# Print the names of each group (by index)\n",
        "for i, chunk in enumerate(match_id_chunks):\n",
        "  print(f\"Group {i+1}\")\n",
        "  # If you want to see the match ids in each group, uncomment the line below\n",
        "  print(chunk)"
      ]
    },
    {
      "cell_type": "code",
      "execution_count": null,
      "metadata": {
        "id": "RdOlUzCyJ52A"
      },
      "outputs": [],
      "source": [
        "\n",
        "df_final_matches = pd.merge(df_final_matches, df_wwc[['match_id', 'home_team']], on='match_id', how='left')\n"
      ]
    },
    {
      "cell_type": "code",
      "execution_count": null,
      "metadata": {
        "id": "GIcSseTUMGPL"
      },
      "outputs": [],
      "source": [
        "\n",
        "df_final_matches['home_team_flag'] = (df_final_matches['possession_team'] == df_final_matches['home_team']).astype(int)\n"
      ]
    },
    {
      "cell_type": "code",
      "execution_count": null,
      "metadata": {
        "id": "Ku-8HJdkmNTQ"
      },
      "outputs": [],
      "source": [
        "df_final_matches[['x','y']] = df_final_matches['location'].apply(pd.Series)\n",
        "df_final_matches[['carry_end_x','carry_end_y']] = df_final_matches['carry_end_location'].apply(pd.Series)\n",
        "#df_final_matches[['goalkeeper_end_x','goalkeeper_end_y']] = df_final_matches['goalkeeper_end_location'].apply(pd.Series)\n",
        "df_final_matches[['pass_end_x','pass_end_y']] = df_final_matches['pass_end_location'].apply(pd.Series)"
      ]
    },
    {
      "cell_type": "code",
      "execution_count": null,
      "metadata": {
        "id": "BhwyDoC0lfVl"
      },
      "outputs": [],
      "source": [
        "\n",
        "df_final_matches['new_id'] = df_final_matches['match_id'].astype(str) + '_' + df_final_matches['possession'].astype(str)\n",
        "df_first_event_of_possession = df_final_matches.loc[df_final_matches.groupby('new_id')['index'].idxmin()]"
      ]
    },
    {
      "cell_type": "code",
      "execution_count": null,
      "metadata": {
        "id": "z8VSLSW13v_p"
      },
      "outputs": [],
      "source": [
        "print(df_final_matches['type'].unique())"
      ]
    },
    {
      "cell_type": "code",
      "execution_count": null,
      "metadata": {
        "id": "SWp4EfKa333I"
      },
      "outputs": [],
      "source": [
        "#\n",
        "new_dfs = {}\n",
        "for event_type in df_final_matches['type'].unique():\n",
        "  df_name = f\"df_{event_type.replace(' ', '_').lower()}\"\n",
        "  new_dfs[df_name] = df_final_matches[df_final_matches['type'] == event_type].copy()\n",
        "\n",
        "print(\"List of new dataframes:\")\n",
        "for df_name in new_dfs.keys():\n",
        "    print(df_name)\n"
      ]
    },
    {
      "cell_type": "markdown",
      "metadata": {
        "id": "oMaS7hu-15Zm"
      },
      "source": [
        "**High Level**"
      ]
    },
    {
      "cell_type": "code",
      "execution_count": null,
      "metadata": {
        "id": "wpsWX-5YydEE"
      },
      "outputs": [],
      "source": [
        "# Sum duration and shot_statsbomb_xg by match_id\n",
        "\n",
        "match_analysis = df_final_matches.groupby('match_id').agg(\n",
        "    duration=('duration', 'sum'),\n",
        "    xg=('shot_statsbomb_xg', 'sum'),\n",
        "    home_team_duration=('duration', lambda x: x[df_final_matches.loc[x.index, 'home_team_flag'] == 1].sum()),\n",
        "    max_posession=('possession', 'max')\n",
        ").reset_index()\n",
        "\n",
        "# Calculate the shot_home_proportion after aggregation\n",
        "match_analysis['home_team_duration'] = match_analysis['home_team_duration'] / match_analysis['duration']\n",
        "\n",
        "match_analysis"
      ]
    },
    {
      "cell_type": "markdown",
      "metadata": {
        "id": "gOBQHEUXKGj3"
      },
      "source": [
        "**shots**"
      ]
    },
    {
      "cell_type": "code",
      "execution_count": null,
      "metadata": {
        "id": "VXI1bzVojDzo"
      },
      "outputs": [],
      "source": [
        "selected_columns = [\n",
        "\n",
        "    'id',\n",
        "    'match_id',\n",
        "    'location',\n",
        "    'period',\n",
        "    'possession',\n",
        "    'possession_team',\n",
        "    'under_pressure',\n",
        "    'home_team_flag',\n",
        "    'duration',\n",
        "    'counterpress',\n",
        "    'index',\n",
        "    'x',\n",
        "    'y',\n",
        "    'play_pattern',\n",
        "    'shot_body_part',\n",
        "    'shot_first_time',\n",
        "    'shot_outcome',\n",
        "    'shot_technique',\n",
        "    'shot_type',\n",
        "    'shot_statsbomb_xg'\n",
        "]\n",
        "df_shot = new_dfs['df_shot']\n",
        "existing_columns = [col for col in selected_columns if col in df_shot.columns]\n",
        "\n",
        "# Create a new dataframe with only the existing selected columns\n",
        "df_final_matches_selected_shot = df_shot[existing_columns]\n",
        "df_final_matches_selected_shot"
      ]
    },
    {
      "cell_type": "code",
      "execution_count": null,
      "metadata": {
        "id": "X9sfhYaJn0Fa"
      },
      "outputs": [],
      "source": [
        "# Join df_final_matches_selected_shot and df_final_matches on 'match_id' and 'possession'\n",
        "df_merged = pd.merge(df_final_matches_selected_shot[['match_id', 'possession']],\n",
        "                     df_final_matches[['match_id', 'possession', 'index']],\n",
        "                     on=['match_id', 'possession'],\n",
        "                     how='inner')\n",
        "\n",
        "# Find the minimum index for each match_id and possession combination\n",
        "df_min_index = df_merged.groupby(['match_id', 'possession'])['index'].min().reset_index()\n",
        "df_min_index.rename(columns={'index': 'min_index'}, inplace=True)\n",
        "\n",
        "# Join the minimum index back onto df_final_matches_selected_shot\n",
        "df_final_matches_selected_shot = pd.merge(df_final_matches_selected_shot,\n",
        "                                          df_min_index,\n",
        "                                          on=['match_id', 'possession'],\n",
        "                                          how='left')\n",
        "\n",
        "print(df_final_matches_selected_shot.head())\n"
      ]
    },
    {
      "cell_type": "code",
      "execution_count": null,
      "metadata": {
        "id": "UR_HZwOPoqZh"
      },
      "outputs": [],
      "source": [
        "# Reset the min_index_diff_flag to 0 before recalculating\n",
        "df_final_matches_selected_shot['sequence length'] = df_final_matches_selected_shot['index'] - df_final_matches_selected_shot['min_index']\n",
        "\n",
        "df_final_matches_selected_shot['first_shot_flag'] = 0\n",
        "\n",
        "# Group by match_id and possession\n",
        "grouped = df_final_matches_selected_shot.groupby(['match_id', 'possession'])\n",
        "\n",
        "# Iterate through each group and set the flag for the minimum index_diff\n",
        "for name, group in grouped:\n",
        "  min_index_diff_idx = group['sequence length'].idxmin()\n",
        "  df_final_matches_selected_shot.loc[min_index_diff_idx, 'first_shot_flag'] = 1\n",
        "\n",
        "df_final_matches_selected_shot"
      ]
    },
    {
      "cell_type": "code",
      "execution_count": null,
      "metadata": {
        "id": "6H3Wk1Nlq_68"
      },
      "outputs": [],
      "source": [
        "\n",
        "# Ensure df_final_matches_selected_shot is sorted by match_id, possession, and index\n",
        "df_final_matches_selected_shot = df_final_matches_selected_shot.sort_values(by=['match_id', 'possession', 'index'])\n",
        "\n",
        "# Initialize a list to store the counts for each shot\n",
        "pass_counts = []\n",
        "\n",
        "# Iterate through each row in df_final_matches_selected_shot\n",
        "for index, row in df_final_matches_selected_shot.iterrows():\n",
        "    match_id = row['match_id']\n",
        "    shot_index = row['index']\n",
        "    min_index = row['min_index']\n",
        "\n",
        "    # Filter df_final_matches for the current match_id and the relevant index range\n",
        "    relevant_events = df_final_matches[\n",
        "        (df_final_matches['match_id'] == match_id) &\n",
        "        (df_final_matches['index'] >= min_index) &\n",
        "        (df_final_matches['index'] <= shot_index)\n",
        "    ]\n",
        "\n",
        "    # Count the number of rows where 'type' is 'Pass' in the filtered events\n",
        "    count_passes = relevant_events[relevant_events['type'] == 'Pass'].shape[0]\n",
        "\n",
        "    # Append the count to the list\n",
        "    pass_counts.append(count_passes)\n",
        "\n",
        "# Add the pass counts as a new column to df_final_matches_selected_shot\n",
        "df_final_matches_selected_shot['passes_in_sequence'] = pass_counts\n",
        "\n",
        "print(df_final_matches_selected_shot[['match_id', 'index', 'min_index', 'passes_in_sequence']].head())\n",
        "print(\"\\nFirst few rows of df_final_matches_selected_shot with 'passes_in_sequence' column:\")\n",
        "print(df_final_matches_selected_shot.head())"
      ]
    },
    {
      "cell_type": "code",
      "execution_count": null,
      "metadata": {
        "id": "NGA0MWLyTe3w"
      },
      "outputs": [],
      "source": [
        "\n",
        "df_final_matches_selected_shot = pd.merge(df_final_matches_selected_shot,\n",
        "                                          df_selected_cols[['match_id', 'competition', 'season']],\n",
        "                                          on='match_id',\n",
        "                                          how='left')\n",
        "print(df_final_matches_selected_shot.head())"
      ]
    },
    {
      "cell_type": "code",
      "execution_count": null,
      "metadata": {
        "id": "cupKeSxlO_sN"
      },
      "outputs": [],
      "source": [
        "\n",
        "# Group by match_id\n",
        "match_analysis_shot = df_final_matches_selected_shot.groupby('match_id').agg(\n",
        "    shot_count=('id', 'count'),\n",
        "    shot_proportion_period_1=('period', lambda x: (x == 1).mean()),\n",
        "    shot_proportion_home_team=('home_team_flag', 'mean'),\n",
        "    shot_proportion_under_pressure=('under_pressure', lambda x: x.fillna(False).mean()), # Handle potential NaNs in under_pressure\n",
        "    shot_duration_mean=('duration', 'mean'),\n",
        "    shot_start_mean=('x', 'mean'),\n",
        "    shot_start_proportion_x_lt_60=('x', lambda x: (x < 60).mean()), # Proportion of pass start x location when x is less than 60\n",
        "    shot_start_y_between_20_60_proportion=('y', lambda y: ((y >= 20) & (y <= 60)).mean()), # Proportion of pass start y location when y is between 20 and 60\n",
        "    shot_start_home=('x', lambda x: x[df_final_matches_selected_shot.loc[x.index, 'home_team_flag'] == 1].mean()),                       # Average y_dist\n",
        "    shot_left_foot_proportion=('shot_body_part', lambda x: (x == 'Left Foot').mean()),\n",
        "    shot_right_foot_proportion=('shot_body_part', lambda x: (x == 'Right Foot').mean()),\n",
        "    shot_other_proportion=('shot_body_part', lambda x: ((x != 'Left Foot') & (x != 'Right Foot')).mean()),\n",
        "    shot_first_shot_proportion=('first_shot_flag', 'mean'),\n",
        "    shot_passes_in_sequence_mean=('passes_in_sequence', 'mean'),\n",
        "    shot_sequence_length_mean=('sequence length', 'mean'),\n",
        "    shot_type_proportion_open_play=('shot_type', lambda x: (x == 'Open Play').mean()),\n",
        "    shot_play_pattern_proportion_regular_play=('play_pattern', lambda x: (x == 'Regular Play').mean()),\n",
        "    shot_play_pattern_proportion_free_kick=('play_pattern', lambda x: (x == 'From Free Kick').mean()),\n",
        "    shot_play_pattern_proportion_throw_in=('play_pattern', lambda x: (x == 'From Throw In').mean()),\n",
        "    shot_play_pattern_proportion_corner=('play_pattern', lambda x: (x == 'From Corner').mean()),\n",
        "    shot_play_pattern_proportion_counter=('play_pattern', lambda x: (x == 'From Counter').mean()),\n",
        "    shot_technique_normal=('shot_technique', lambda x: (x == 'Normal').mean()),\n",
        "    shot_first_time_proportion=('shot_first_time', lambda x: x.fillna(False).mean()),\n",
        "    shot_on_target=('shot_outcome', lambda x: ((x == 'Goal') |  (x == 'Saved')).mean()),\n",
        "    shot_blocked=('shot_outcome', lambda x: (x == 'Blocked').mean()),\n",
        "    shot_off_target=('shot_outcome', lambda x: ((x != 'Goal')&(x != 'Blocked')& (x != 'Saved')).mean())\n",
        ").reset_index()\n",
        "\n",
        "match_analysis_shot"
      ]
    },
    {
      "cell_type": "markdown",
      "metadata": {
        "id": "E1EeZ0WirgLi"
      },
      "source": [
        "**Passes**"
      ]
    },
    {
      "cell_type": "code",
      "execution_count": null,
      "metadata": {
        "id": "Teg4Jzdzrgzq"
      },
      "outputs": [],
      "source": [
        "selected_columns = [\n",
        "\n",
        "    'id',\n",
        "    'match_id',\n",
        "    'location',\n",
        "    'period',\n",
        "    'possession',\n",
        "    'possession_team',\n",
        "    'under_pressure',\n",
        "    'home_team',\n",
        "    'home_team_flag',\n",
        "    'duration',\n",
        "    'counterpress',\n",
        "    'x',\n",
        "    'y',\n",
        "    'pass_end_x',\n",
        "    'pass_end_y',\n",
        "    'pass_body_part',\n",
        "    'pass_height',\n",
        "    'pass_length'\n",
        "]\n",
        "# Check if the columns exist in the database\n",
        "df_pass = new_dfs['df_pass']\n",
        "\n",
        "existing_columns = [col for col in selected_columns if col in df_pass.columns]\n",
        "\n",
        "# Create a new dataframe with only the existing selected columns\n",
        "df_final_matches_selected_pass = df_pass[existing_columns]\n",
        "\n",
        "# Calculate the distance in x and y and add them as new columns\n",
        "df_final_matches_selected_pass['x_dist'] = df_final_matches_selected_pass['pass_end_x'] - df_final_matches_selected_pass['x']\n",
        "df_final_matches_selected_pass['y_dist'] = (df_final_matches_selected_pass['y'] - df_final_matches_selected_pass['pass_end_y']).abs()\n",
        "\n",
        "df_final_matches_selected_pass"
      ]
    },
    {
      "cell_type": "code",
      "execution_count": null,
      "metadata": {
        "id": "il1hFEIOOLK1"
      },
      "outputs": [],
      "source": [
        "\n",
        "df_final_matches_selected_pass['short pass'] = (df_final_matches_selected_pass['pass_length'] < 10).astype(int)\n",
        "df_final_matches_selected_pass['medium pass'] = ((df_final_matches_selected_pass['pass_length'] >= 10) & (df_final_matches_selected_pass['pass_length'] < 30)).astype(int)\n",
        "df_final_matches_selected_pass['long pass'] = (df_final_matches_selected_pass['pass_length'] >= 30).astype(int)\n",
        "\n"
      ]
    },
    {
      "cell_type": "code",
      "execution_count": null,
      "metadata": {
        "id": "T7wXe_4ergZM"
      },
      "outputs": [],
      "source": [
        "\n",
        "# Group by match_id\n",
        "match_analysis_pass = df_final_matches_selected_pass.groupby('match_id').agg(\n",
        "    pass_count=('id', 'count'),\n",
        "    pass_proportion_period_1=('period', lambda x: (x == 1).mean()),\n",
        "    pass_proportion_home_team=('home_team_flag', 'mean'),\n",
        "    pass_proportion_under_pressure=('under_pressure', lambda x: x.fillna(False).mean()), # Handle potential NaNs in under_pressure\n",
        "    pass_duration_mean=('duration', 'mean'),\n",
        "    pass_counterpress_rate=('counterpress', lambda x: x.fillna(False).mean()),\n",
        "    pass_start_mean=('x', 'mean'),\n",
        "    pass_start_proportion_x_lt_60=('x', lambda x: (x < 60).mean()), # Proportion of pass start x location when x is less than 60\n",
        "    pass_start_y_between_20_60_proportion=('y', lambda y: ((y >= 20) & (y <= 60)).mean()), # Proportion of pass start y location when y is between 20 and 60\n",
        "    pass_start_home=('x', lambda x: x[df_final_matches_selected_pass.loc[x.index, 'home_team_flag'] == 1].mean()),\n",
        "    pass_proportion_x_dist_lt_0=('x_dist', lambda x: (x < 0).mean()),  # Proportion of x_dist < 0\n",
        "    pass_x_dist_lt_0=('x_dist', lambda x: x[x < 0].mean()),      # Count of x_dist < 0\n",
        "    pass_average_x_dist_gt_0=('x_dist', lambda x: x[x > 0].mean()),  # Average x_dist > 0\n",
        "    pass_average_y_dist=('y_dist', 'mean'),                          # Average y_dist\n",
        "    pass_average_x_dist_lt_0_home=('x_dist', lambda x: x[(df_final_matches_selected_pass.loc[x.index, 'home_team_flag'] == 1) & (x < 0)].mean()),# Average x_dist < 0 by home_team_flag\n",
        "    pass_average_x_dist_gt_0_home=('x_dist', lambda x: x[(df_final_matches_selected_pass.loc[x.index, 'home_team_flag'] == 1) & (x > 0)].mean()),# Average x_dist < 0 by home_team_flag\n",
        "    pass_left_foot_proportion=('pass_body_part', lambda x: (x == 'Left Foot').mean()),\n",
        "    pass_right_foot_proportion=('pass_body_part', lambda x: (x == 'Right Foot').mean()),\n",
        "    pass_other_proportion=('pass_body_part', lambda x: ((x != 'Left Foot') & (x != 'Right Foot')).mean()),\n",
        "    pass_pass_height_proportion_ground=('pass_height', lambda x: (x == 'Ground Pass').mean()),\n",
        "    pass_pass_height_proportion_low=('pass_height', lambda x: (x == 'Low Pass').mean()),\n",
        "    pass_pass_height_proportion_high=('pass_height', lambda x: (x == 'High Pass').mean()),\n",
        "    pass_short_pass_proportion=('short pass', 'mean'),\n",
        "    pass_medium_pass_proportion=('medium pass', 'mean'),\n",
        "    pass_long_pass_proportion=('long pass', 'mean')\n",
        ").reset_index()\n",
        "\n",
        "match_analysis_pass"
      ]
    },
    {
      "cell_type": "markdown",
      "metadata": {
        "id": "dWv5evQv4l7Z"
      },
      "source": [
        "**Carries** - reviewed"
      ]
    },
    {
      "cell_type": "code",
      "execution_count": null,
      "metadata": {
        "id": "M-wpJ1Cy4lAw"
      },
      "outputs": [],
      "source": [
        "selected_columns = [\n",
        "\n",
        "    'id',\n",
        "    'match_id',\n",
        "    'location',\n",
        "    'period',\n",
        "    'possession',\n",
        "    'possession_team',\n",
        "    'under_pressure',\n",
        "    'home_team',\n",
        "    'home_team_flag',\n",
        "    'duration',\n",
        "    'counterpress',\n",
        "    'x',\n",
        "    'y',\n",
        "    'carry_end_x',\n",
        "    'carry_end_y'\n",
        "]\n",
        "# Check if the columns exist in the database\n",
        "df_carry = new_dfs['df_carry']\n",
        "\n",
        "existing_columns = [col for col in selected_columns if col in df_carry.columns]\n",
        "\n",
        "# Create a new dataframe with only the existing selected columns\n",
        "df_final_matches_selected_carry = df_carry[existing_columns]\n",
        "\n",
        "# Calculate the distance in x and y and add them as new columns\n",
        "df_final_matches_selected_carry['x_dist'] = df_final_matches_selected_carry['carry_end_x'] - df_final_matches_selected_carry['x']\n",
        "df_final_matches_selected_carry['y_dist'] = (df_final_matches_selected_carry['y'] - df_final_matches_selected_carry['carry_end_y']).abs()\n",
        "\n",
        "df_final_matches_selected_carry"
      ]
    },
    {
      "cell_type": "code",
      "execution_count": null,
      "metadata": {
        "id": "7drHZdzeK3uJ"
      },
      "outputs": [],
      "source": [
        "\n",
        "# Group by match_id\n",
        "match_analysis_carry = df_final_matches_selected_carry.groupby('match_id').agg(\n",
        "    carry_count=('id', 'count'),\n",
        "    carry_proportion_period_1=('period', lambda x: (x == 1).mean()),\n",
        "    carry_proportion_home_team=('home_team_flag', 'mean'),\n",
        "    carry_proportion_under_pressure=('under_pressure', lambda x: x.fillna(False).mean()), # Handle potential NaNs in under_pressure\n",
        "    carry_duration_mean=('duration', 'mean'),\n",
        "    carry_counterpress_rate=('counterpress', lambda x: x.fillna(False).mean()),\n",
        "    carry_start_mean=('x', 'mean'),\n",
        "    carry_start_proportion_x_lt_60=('x', lambda x: (x < 60).mean()), # Proportion of carry start x location when x is less than 60\n",
        "    carry_start_y_between_20_60_proportion=('y', lambda y: ((y >= 20) & (y <= 60)).mean()), # Proportion of carry start y location when y is between 20 and 60\n",
        "    carry_start_home=('x', lambda x: x[df_final_matches_selected_carry.loc[x.index, 'home_team_flag'] == 1].mean()),\n",
        "    carry_proportion_x_dist_lt_0=('x_dist', lambda x: (x < 0).mean()),  # Proportion of x_dist < 0\n",
        "    carry_x_dist_lt_0=('x_dist', lambda x: x[x < 0].mean()),      # Count of x_dist < 0\n",
        "    carry_average_x_dist_gt_0=('x_dist', lambda x: x[x > 0].mean()),  # Average x_dist > 0\n",
        "    carry_average_y_dist=('y_dist', 'mean'),                          # Average y_dist\n",
        "    carry_average_x_dist_lt_0_home=('x_dist', lambda x: x[(df_final_matches_selected_carry.loc[x.index, 'home_team_flag'] == 1) & (x < 0)].mean()),# Average x_dist < 0 by home_team_flag\n",
        "    carry_average_x_dist_gt_0_home=('x_dist', lambda x: x[(df_final_matches_selected_carry.loc[x.index, 'home_team_flag'] == 1) & (x > 0)].mean())# Average x_dist < 0 by home_team_flag\n",
        ").reset_index()\n",
        "\n",
        "match_analysis_carry"
      ]
    },
    {
      "cell_type": "markdown",
      "metadata": {
        "id": "qUPfnfgcSaLR"
      },
      "source": [
        "**Pressure** - reviewed"
      ]
    },
    {
      "cell_type": "code",
      "execution_count": null,
      "metadata": {
        "id": "wDp-zWU1SZ7q"
      },
      "outputs": [],
      "source": [
        "selected_columns = [\n",
        "\n",
        "    'id',\n",
        "    'match_id',\n",
        "    'location',\n",
        "    'period',\n",
        "    'possession',\n",
        "    'possession_team',\n",
        "    'under_pressure',\n",
        "    'home_team_flag',\n",
        "    'duration',\n",
        "    'counterpress',\n",
        "    'x',\n",
        "    'y'\n",
        "]\n",
        "df_pressure = new_dfs['df_pressure']\n",
        "existing_columns = [col for col in selected_columns if col in df_pressure.columns]\n",
        "\n",
        "# Create a new dataframe with only the existing selected columns\n",
        "df_final_matches_selected_pressure = df_pressure[existing_columns]\n",
        "df_final_matches_selected_pressure"
      ]
    },
    {
      "cell_type": "code",
      "execution_count": null,
      "metadata": {
        "id": "wLNrzXFUSXoZ"
      },
      "outputs": [],
      "source": [
        "match_analysis_pressure = df_final_matches_selected_pressure.groupby('match_id').agg(\n",
        "    pressure_count=('id', 'count'),\n",
        "    pressure_proportion_period_1=('period', lambda x: (x == 1).mean()),\n",
        "    pressure_proportion_home_team=('home_team_flag', 'mean'),\n",
        "    pressure_duration_mean=('duration', 'mean'),\n",
        "    pressure_counterpress_rate=('counterpress', lambda x: x.fillna(False).mean()),\n",
        "    pressure_start_mean=('x', 'mean'),\n",
        "    pressure_start_proportion_x_lt_60=('x', lambda x: (x < 60).mean()), # Proportion of carry start x location when x is less than 60\n",
        "    pressure_start_y_between_20_60_proportion=('y', lambda y: ((y >= 20) & (y <= 60)).mean()) # Proportion of carry start y location when y is between 20 and 60\n",
        ").reset_index()\n",
        "\n",
        "match_analysis_pressure"
      ]
    },
    {
      "cell_type": "markdown",
      "metadata": {
        "id": "nGV1LfEnYzdz"
      },
      "source": [
        "**miscontrol** - reviewed"
      ]
    },
    {
      "cell_type": "code",
      "execution_count": null,
      "metadata": {
        "id": "pAXu5qLQXFoB"
      },
      "outputs": [],
      "source": [
        "selected_columns = [\n",
        "\n",
        "    'id',\n",
        "    'match_id',\n",
        "    'location',\n",
        "    'period',\n",
        "    'possession',\n",
        "    'possession_team',\n",
        "    'under_pressure',\n",
        "    'home_team',\n",
        "    'home_team_flag',\n",
        "    'duration',\n",
        "    'counterpress',\n",
        "    'x',\n",
        "    'y'\n",
        "]\n",
        "# Check if the columns exist in the database\n",
        "df_miscontrol = new_dfs['df_miscontrol']\n",
        "\n",
        "existing_columns = [col for col in selected_columns if col in df_miscontrol.columns]\n",
        "\n",
        "# Create a new dataframe with only the existing selected columns\n",
        "df_final_matches_selected_miscontrol = df_miscontrol[existing_columns]\n",
        "df_final_matches_selected_miscontrol"
      ]
    },
    {
      "cell_type": "code",
      "execution_count": null,
      "metadata": {
        "id": "7YrTiEVnY6Sa"
      },
      "outputs": [],
      "source": [
        "\n",
        "# Group by match_id\n",
        "match_analysis_miscontrol = df_final_matches_selected_miscontrol.groupby('match_id').agg(\n",
        "    miscontrol_count=('id', 'count'),\n",
        "    miscontrol_proportion_period_1=('period', lambda x: (x == 1).mean()),\n",
        "    miscontrol_proportion_home_team=('home_team_flag', 'mean'),\n",
        "    miscontrol_proportion_under_pressure=('under_pressure', lambda x: x.fillna(False).mean()),\n",
        "    miscontrol_start_mean=('x', 'mean'),\n",
        "    miscontrol_start_proportion_x_lt_60=('x', lambda x: (x < 60).mean()), # Proportion of carry start x location when x is less than 60\n",
        "    miscontrol_start_y_between_20_60_proportion=('y', lambda y: ((y >= 20) & (y <= 60)).mean()) # Proportion of carry start y location when y is between 20 and 60\n",
        ").reset_index()\n",
        "\n",
        "match_analysis_miscontrol"
      ]
    },
    {
      "cell_type": "markdown",
      "metadata": {
        "id": "TLDeCoELZxxW"
      },
      "source": [
        "**Dribble** - reviewed"
      ]
    },
    {
      "cell_type": "code",
      "execution_count": null,
      "metadata": {
        "id": "nMotC3-6ZF4z"
      },
      "outputs": [],
      "source": [
        "selected_columns = [\n",
        "\n",
        "    'id',\n",
        "    'match_id',\n",
        "    'location',\n",
        "    'period',\n",
        "    'possession',\n",
        "    'possession_team',\n",
        "    'under_pressure',\n",
        "    'home_team',\n",
        "    'home_team_flag',\n",
        "    'duration',\n",
        "    'dribble_outcome',\n",
        "    'counterpress',\n",
        "    'x',\n",
        "    'y'\n",
        "]\n",
        "# Check if the columns exist in the database\n",
        "df_dribble = new_dfs['df_dribble']\n",
        "\n",
        "existing_columns = [col for col in selected_columns if col in df_dribble.columns]\n",
        "\n",
        "# Create a new dataframe with only the existing selected columns\n",
        "df_final_matches_selected_dribble = df_dribble[existing_columns]\n",
        "df_final_matches_selected_dribble"
      ]
    },
    {
      "cell_type": "code",
      "execution_count": null,
      "metadata": {
        "id": "Rs8eYo39ZF2H"
      },
      "outputs": [],
      "source": [
        "# Group by match_id\n",
        "match_analysis_dribble = df_final_matches_selected_dribble.groupby('match_id').agg(\n",
        "    dribble_count=('id', 'count'),\n",
        "    dribble_proportion_period_1=('period', lambda x: (x == 1).mean()),\n",
        "    dribble_proportion_home_team=('home_team_flag', 'mean'), # Handle potential NaNs in under_pressure\n",
        "    dribble_success_rate=('dribble_outcome', lambda x: (x == 'Complete').mean()),\n",
        "    dribble_start_mean=('x', 'mean'),\n",
        "    dribble_start_proportion_x_lt_60=('x', lambda x: (x < 60).mean()), # Proportion of carry start x location when x is less than 60\n",
        "    dribble_start_y_between_20_60_proportion=('y', lambda y: ((y >= 20) & (y <= 60)).mean()) # Proportion of carry start y location when y is between 20 and 60\n",
        ").reset_index()\n",
        "\n",
        "match_analysis_dribble"
      ]
    },
    {
      "cell_type": "markdown",
      "metadata": {
        "id": "Jmpnk_CLewg6"
      },
      "source": [
        "**df_duel** - reviewed"
      ]
    },
    {
      "cell_type": "code",
      "execution_count": null,
      "metadata": {
        "id": "INl9STsGZFzj"
      },
      "outputs": [],
      "source": [
        "selected_columns = [\n",
        "\n",
        "    'id',\n",
        "    'match_id',\n",
        "    'location',\n",
        "    'period',\n",
        "    'possession',\n",
        "    'possession_team',\n",
        "    'under_pressure',\n",
        "    'home_team',\n",
        "    'home_team_flag',\n",
        "    'duration',\n",
        "    'counterpress',\n",
        "    'x',\n",
        "    'y',\n",
        "    'duel_type'\n",
        "]\n",
        "# Check if the columns exist in the database\n",
        "df_duel = new_dfs['df_duel']\n",
        "\n",
        "existing_columns = [col for col in selected_columns if col in df_duel.columns]\n",
        "\n",
        "# Create a new dataframe with only the existing selected columns\n",
        "df_final_matches_selected_duel = df_duel[existing_columns]\n",
        "df_final_matches_selected_duel"
      ]
    },
    {
      "cell_type": "code",
      "execution_count": null,
      "metadata": {
        "id": "JIByFU1ZZFxE"
      },
      "outputs": [],
      "source": [
        "# Group by match_id\n",
        "match_analysis_duel = df_final_matches_selected_duel.groupby('match_id').agg(\n",
        "    duel_count=('id', 'count'),\n",
        "    duel_proportion_period_1=('period', lambda x: (x == 1).mean()),\n",
        "    duel_proportion_away_team=('home_team_flag', 'mean'),\n",
        "    duel_counterpress_rate=('counterpress', lambda x: x.fillna(False).mean()),\n",
        "    duel_start_mean=('x', 'mean'),\n",
        "    duel_proportion_Tackle=('duel_type', lambda x: (x == 'Tackle').mean()), #Tackle and Header are the only options\n",
        "    duel_start_proportion_x_lt_60=('x', lambda x: (x < 60).mean()), # Proportion of carry start x location when x is less than 60\n",
        "    duel_start_y_between_20_60_proportion=('y', lambda y: ((y >= 20) & (y <= 60)).mean()) # Proportion of carry start y location when y is between 20 and 60\n",
        ").reset_index()\n",
        "\n",
        "match_analysis_duel"
      ]
    },
    {
      "cell_type": "markdown",
      "metadata": {
        "id": "oRz-bLcjf76i"
      },
      "source": [
        "**df_interception** - reviewed\n",
        "\n"
      ]
    },
    {
      "cell_type": "code",
      "execution_count": null,
      "metadata": {
        "id": "VN3j6B05ffGK"
      },
      "outputs": [],
      "source": [
        "selected_columns = [\n",
        "\n",
        "    'id',\n",
        "    'match_id',\n",
        "    'location',\n",
        "    'period',\n",
        "    'possession',\n",
        "    'possession_team',\n",
        "    'under_pressure',\n",
        "    'home_team',\n",
        "    'home_team_flag',\n",
        "    'duration',\n",
        "    'counterpress',\n",
        "    'x',\n",
        "    'y'\n",
        "]\n",
        "# Check if the columns exist in the database\n",
        "df_interception = new_dfs['df_interception']\n",
        "\n",
        "existing_columns = [col for col in selected_columns if col in df_interception.columns]\n",
        "\n",
        "# Create a new dataframe with only the existing selected columns\n",
        "df_final_matches_selected_interception = df_interception[existing_columns]\n",
        "df_final_matches_selected_interception"
      ]
    },
    {
      "cell_type": "code",
      "execution_count": null,
      "metadata": {
        "id": "WySlQSyAZFur"
      },
      "outputs": [],
      "source": [
        "# Group by match_id\n",
        "match_analysis_interception = df_final_matches_selected_interception.groupby('match_id').agg(\n",
        "    interception_count=('id', 'count'),\n",
        "    interception_proportion_period_1=('period', lambda x: (x == 1).mean()),\n",
        "    interception_proportion_home_team=('home_team_flag', 'mean'),\n",
        "    interception_proportion_under_pressure=('under_pressure', lambda x: x.fillna(False).mean()), # Handle potential NaNs in under_pressure\n",
        "    interception_counterpress_rate=('counterpress', lambda x: x.fillna(False).mean()),\n",
        "    interception_start_mean=('x', 'mean'),\n",
        "    interception_start_proportion_x_lt_60=('x', lambda x: (x < 60).mean()), # Proportion of carry start x location when x is less than 60\n",
        "    interception_start_y_between_20_60_proportion=('y', lambda y: ((y >= 20) & (y <= 60)).mean()) # Proportion of carry start y location when y is between 20 and 60\n",
        ").reset_index()\n",
        "\n",
        "match_analysis_interception"
      ]
    },
    {
      "cell_type": "markdown",
      "metadata": {
        "id": "n0RLZowUgfz7"
      },
      "source": [
        "**df_ball_recovery** - reviewed"
      ]
    },
    {
      "cell_type": "code",
      "execution_count": null,
      "metadata": {
        "id": "29Ww0ZZKgfLW"
      },
      "outputs": [],
      "source": [
        "selected_columns = [\n",
        "    'id',\n",
        "    'match_id',\n",
        "    'location',\n",
        "    'period',\n",
        "    'possession',\n",
        "    'possession_team',\n",
        "    'under_pressure',\n",
        "    'home_team',\n",
        "    'home_team_flag',\n",
        "    'duration',\n",
        "    'counterpress',\n",
        "    'x',\n",
        "    'y'\n",
        "]\n",
        "# Check if the columns exist in the database\n",
        "df_ball_recovery = new_dfs['df_ball_recovery']\n",
        "\n",
        "existing_columns = [col for col in selected_columns if col in df_ball_recovery.columns]\n",
        "\n",
        "# Create a new dataframe with only the existing selected columns\n",
        "df_final_matches_selected_ball_recovery = df_ball_recovery[existing_columns]\n",
        "df_final_matches_selected_ball_recovery"
      ]
    },
    {
      "cell_type": "code",
      "execution_count": null,
      "metadata": {
        "id": "BMylDiOdgfIs"
      },
      "outputs": [],
      "source": [
        "# Group by match_id\n",
        "match_analysis_ball_recovery = df_final_matches_selected_ball_recovery.groupby('match_id').agg(\n",
        "    ball_recovery_count=('id', 'count'),\n",
        "    ball_recovery_proportion_period_1=('period', lambda x: (x == 1).mean()),\n",
        "    ball_recovery_proportion_home_team=('home_team_flag', 'mean'),\n",
        "    ball_recovery_proportion_under_pressure=('under_pressure', lambda x: x.fillna(False).mean()), # Handle potential NaNs in under_pressure\n",
        "    dribble_start_mean=('x', 'mean'),\n",
        "    dribble_start_proportion_x_lt_60=('x', lambda x: (x < 60).mean()), # Proportion of carry start x location when x is less than 60\n",
        "    dribble_start_y_between_20_60_proportion=('y', lambda y: ((y >= 20) & (y <= 60)).mean()) # Proportion of carry start y location when y is between 20 and 60\n",
        ").reset_index()\n",
        "\n",
        "match_analysis_ball_recovery"
      ]
    },
    {
      "cell_type": "markdown",
      "metadata": {
        "id": "hMUGpxs9h00e"
      },
      "source": [
        "**df_dispossessed** - reviewed"
      ]
    },
    {
      "cell_type": "code",
      "execution_count": null,
      "metadata": {
        "id": "PSdYny6tgfGj"
      },
      "outputs": [],
      "source": [
        "selected_columns = [\n",
        "    'id',\n",
        "    'match_id',\n",
        "    'location',\n",
        "    'period',\n",
        "    'possession',\n",
        "    'possession_team',\n",
        "    'under_pressure',\n",
        "    'home_team',\n",
        "    'home_team_flag',\n",
        "    'duration',\n",
        "    'counterpress',\n",
        "    'x',\n",
        "    'y'\n",
        "]\n",
        "# Check if the columns exist in the database\n",
        "df_dispossessed = new_dfs['df_dispossessed']\n",
        "\n",
        "existing_columns = [col for col in selected_columns if col in df_dispossessed.columns]\n",
        "\n",
        "# Create a new dataframe with only the existing selected columns\n",
        "df_final_matches_selected_dispossessed = df_dispossessed[existing_columns]\n",
        "df_final_matches_selected_dispossessed"
      ]
    },
    {
      "cell_type": "code",
      "execution_count": null,
      "metadata": {
        "id": "A0m4l8JUgfD7"
      },
      "outputs": [],
      "source": [
        "# Group by match_id\n",
        "match_analysis_dispossessed = df_final_matches_selected_dispossessed.groupby('match_id').agg(\n",
        "    dispossessed_count=('id', 'count'),\n",
        "    dispossessed_proportion_period_1=('period', lambda x: (x == 1).mean()),\n",
        "    dispossessed_proportion_home_team=('home_team_flag', 'mean'),\n",
        "    dispossessed_start_mean=('x', 'mean'),\n",
        "    dispossessed_start_proportion_x_lt_60=('x', lambda x: (x < 60).mean()), # Proportion of carry start x location when x is less than 60\n",
        "    dispossessed_start_y_between_20_60_proportion=('y', lambda y: ((y >= 20) & (y <= 60)).mean()) # Proportion of carry start y location when y is between 20 and 60\n",
        ").reset_index()\n",
        "\n",
        "match_analysis_dispossessed"
      ]
    },
    {
      "cell_type": "markdown",
      "metadata": {
        "id": "QmtRqvrjfXXh"
      },
      "source": [
        "**Foul Committed**"
      ]
    },
    {
      "cell_type": "code",
      "execution_count": null,
      "metadata": {
        "id": "nXIotdRyfVty"
      },
      "outputs": [],
      "source": [
        "selected_columns = [\n",
        "    'id',\n",
        "    'match_id',\n",
        "    'location',\n",
        "    'period',\n",
        "    'possession',\n",
        "    'possession_team',\n",
        "    'under_pressure',\n",
        "    'home_team',\n",
        "    'home_team_flag',\n",
        "    'foul_committed_card'\n",
        "]\n",
        "# Check if the columns exist in the database\n",
        "df_foul_committed = new_dfs['df_foul_committed']\n",
        "\n",
        "existing_columns = [col for col in selected_columns if col in df_foul_committed.columns]\n",
        "\n",
        "# Create a new dataframe with only the existing selected columns\n",
        "df_final_matches_selected_foul_committed = df_foul_committed[existing_columns]\n",
        "df_final_matches_selected_foul_committed"
      ]
    },
    {
      "cell_type": "code",
      "execution_count": null,
      "metadata": {
        "id": "-_xBGU5CfVlR"
      },
      "outputs": [],
      "source": [
        "# Group by match_id\n",
        "match_analysis_foul_committed = df_final_matches_selected_foul_committed.groupby('match_id').agg(\n",
        "    foul_committed_yellow_card_count=('foul_committed_card', lambda x: (x == 'Yellow Card').sum()),\n",
        "    foul_committed_red_card_count=('foul_committed_card', lambda x: ((x == 'Red Card')| (x == 'Second Yellow')).sum()),\n",
        "    foul_committed_cards_period_1_count=('foul_committed_card', lambda x: ((x[df_final_matches_selected_foul_committed.loc[x.index, 'period'] == 1] == 'Yellow Card') | (x[df_final_matches_selected_foul_committed.loc[x.index, 'period'] == 1] == 'Red Card') | (x[df_final_matches_selected_foul_committed.loc[x.index, 'period'] == 1] == 'Second Yellow')).sum())\n",
        ").reset_index()\n",
        "\n",
        "match_analysis_foul_committed"
      ]
    },
    {
      "cell_type": "markdown",
      "metadata": {
        "id": "Vle4bdp9legP"
      },
      "source": [
        "**df_foul_won** - on pause"
      ]
    },
    {
      "cell_type": "code",
      "execution_count": null,
      "metadata": {
        "id": "fym5A_jJgfBk"
      },
      "outputs": [],
      "source": [
        "selected_columns = [\n",
        "    'id',\n",
        "    'match_id',\n",
        "    'location',\n",
        "    'period',\n",
        "    'possession',\n",
        "    'possession_team',\n",
        "    'under_pressure',\n",
        "    'home_team',\n",
        "    'home_team_flag',\n",
        "    'duration',\n",
        "    'counterpress',\n",
        "    'x',\n",
        "    'y',\n",
        "    'foul_won_defensive',\n",
        "    'foul_won_advantage'\n",
        "]\n",
        "# Check if the columns exist in the database\n",
        "df_foul_won = new_dfs['df_foul_won']\n",
        "\n",
        "existing_columns = [col for col in selected_columns if col in df_foul_won.columns]\n",
        "\n",
        "# Create a new dataframe with only the existing selected columns\n",
        "df_final_matches_selected_foul_won = df_foul_won[existing_columns]\n",
        "df_final_matches_selected_foul_won"
      ]
    },
    {
      "cell_type": "code",
      "execution_count": null,
      "metadata": {
        "id": "4bD9D2wnge9c"
      },
      "outputs": [],
      "source": [
        "# Group by match_id\n",
        "match_analysis_foul_won = df_final_matches_selected_foul_won.groupby('match_id').agg(\n",
        "    foul_won_count=('id', 'count'),\n",
        "    foul_won_proportion_period_1=('period', lambda x: (x == 1).mean()),\n",
        "    foul_won_proportion_home_team=('home_team_flag', 'mean'),\n",
        "    foul_won_start_mean=('x', 'mean'),\n",
        "    foul_won_start_proportion_x_lt_60=('x', lambda x: (x < 60).mean()), # Proportion of carry start x location when x is less than 60\n",
        "    foul_won_start_y_between_20_60_proportion=('y', lambda y: ((y >= 20) & (y <= 60)).mean()), # Proportion of carry start y location when y is between 20 and 60\n",
        "    foul_won_defensive_proportion=('foul_won_defensive', lambda x: x.fillna(False).mean()), # Handle potential NaNs in under_pressure\n",
        "    foul_won_advantage_proportion=('foul_won_advantage', lambda x: x.fillna(False).mean()) # Handle potential NaNs in under_pressure\n",
        ").reset_index()\n",
        "\n",
        "match_analysis_foul_won"
      ]
    },
    {
      "cell_type": "markdown",
      "metadata": {
        "id": "doBKJI8lSV-5"
      },
      "source": [
        "**df_error** - not to use"
      ]
    },
    {
      "cell_type": "code",
      "execution_count": null,
      "metadata": {
        "id": "opqirFuDge17"
      },
      "outputs": [],
      "source": [
        "selected_columns = [\n",
        "    'id',\n",
        "    'match_id',\n",
        "    'location',\n",
        "    'period',\n",
        "    'possession',\n",
        "    'possession_team',\n",
        "    'under_pressure',\n",
        "    'home_team',\n",
        "    'home_team_flag',\n",
        "    'duration',\n",
        "    'counterpress',\n",
        "    'x',\n",
        "    'y'\n",
        "]\n",
        "# Check if the columns exist in the database\n",
        "df_error = new_dfs['df_error']\n",
        "\n",
        "existing_columns = [col for col in selected_columns if col in df_error.columns]\n",
        "\n",
        "# Create a new dataframe with only the existing selected columns\n",
        "df_final_matches_selected_error = df_error[existing_columns]\n",
        "df_final_matches_selected_error"
      ]
    },
    {
      "cell_type": "code",
      "execution_count": null,
      "metadata": {
        "id": "6po5o2LRZFsj"
      },
      "outputs": [],
      "source": [
        "# Group by match_id\n",
        "match_analysis_error = df_final_matches_selected_error.groupby('match_id').agg(\n",
        "    error_count=('id', 'count'),\n",
        "    error_proportion_period_1=('period', lambda x: (x == 1).mean()),\n",
        "    error_proportion_home_team=('home_team_flag', 'mean'),\n",
        "    error_proportion_under_pressure=('under_pressure', lambda x: x.fillna(False).mean()), # Handle potential NaNs in under_pressure\n",
        "    error_duration_mean=('duration', 'mean'),\n",
        "    error_counterpress_rate=('counterpress', lambda x: x.fillna(False).mean()),\n",
        "    dribble_start_mean=('x', 'mean'),\n",
        "    dribble_start_proportion_x_lt_60=('x', lambda x: (x < 60).mean()), # Proportion of carry start x location when x is less than 60\n",
        "    dribble_start_y_between_20_60_proportion=('y', lambda y: ((y >= 20) & (y <= 60)).mean()) # Proportion of carry start y location when y is between 20 and 60\n",
        ").reset_index()\n",
        "\n",
        "match_analysis_error"
      ]
    },
    {
      "cell_type": "markdown",
      "metadata": {
        "id": "BvM4Zjw1SyLq"
      },
      "source": [
        "**df_injury_stoppage** - reviewed"
      ]
    },
    {
      "cell_type": "code",
      "execution_count": null,
      "metadata": {
        "id": "kZMPY7u6Sxr6"
      },
      "outputs": [],
      "source": [
        "selected_columns = [\n",
        "    'id',\n",
        "    'match_id',\n",
        "    'location',\n",
        "    'period',\n",
        "    'possession',\n",
        "    'possession_team',\n",
        "    'under_pressure',\n",
        "    'home_team',\n",
        "    'home_team_flag',\n",
        "    'duration',\n",
        "    'counterpress',\n",
        "    'x',\n",
        "    'y'\n",
        "]\n",
        "# Check if the columns exist in the database\n",
        "df_injury_stoppage = new_dfs['df_injury_stoppage']\n",
        "\n",
        "existing_columns = [col for col in selected_columns if col in df_injury_stoppage.columns]\n",
        "\n",
        "# Create a new dataframe with only the existing selected columns\n",
        "df_final_matches_selected_injury_stoppage = df_injury_stoppage[existing_columns]\n",
        "df_final_matches_selected_injury_stoppage"
      ]
    },
    {
      "cell_type": "code",
      "execution_count": null,
      "metadata": {
        "id": "rSgCFWxWSxpn"
      },
      "outputs": [],
      "source": [
        "# Group by match_id\n",
        "match_analysis_injury_stoppage = df_final_matches_selected_injury_stoppage.groupby('match_id').agg(\n",
        "    injury_stoppage_count=('id', 'count'),\n",
        "    injury_stoppage_proportion_period_1=('period', lambda x: (x == 1).mean()),\n",
        "    injury_stoppage_proportion_home_team=('home_team_flag', 'mean')\n",
        ").reset_index()\n",
        "\n",
        "match_analysis_injury_stoppage"
      ]
    },
    {
      "cell_type": "markdown",
      "metadata": {
        "id": "71j3A1VPTwjE"
      },
      "source": [
        "**df_referee_ball-drop** - reviewed"
      ]
    },
    {
      "cell_type": "code",
      "execution_count": null,
      "metadata": {
        "id": "m-mgRLqJSxmt"
      },
      "outputs": [],
      "source": [
        "selected_columns = [\n",
        "    'id',\n",
        "    'match_id',\n",
        "    'location',\n",
        "    'period',\n",
        "    'possession',\n",
        "    'possession_team',\n",
        "    'under_pressure',\n",
        "    'home_team',\n",
        "    'home_team_flag',\n",
        "    'duration',\n",
        "    'counterpress',\n",
        "    'x',\n",
        "    'y'\n",
        "]\n",
        "# Check if the columns exist in the database\n",
        "df_drop_ball = new_dfs['df_referee_ball-drop']\n",
        "\n",
        "existing_columns = [col for col in selected_columns if col in df_drop_ball.columns]\n",
        "\n",
        "# Create a new dataframe with only the existing selected columns\n",
        "df_final_matches_selected_drop_ball = df_drop_ball[existing_columns]\n",
        "df_final_matches_selected_drop_ball"
      ]
    },
    {
      "cell_type": "code",
      "execution_count": null,
      "metadata": {
        "id": "ZrKmRj6WSxkT"
      },
      "outputs": [],
      "source": [
        "# Group by match_id and calculate total count, proportion by period, proportion by home_team_flag, and proportion by under_pressure\n",
        "match_analysis_drop_ball = df_final_matches_selected_drop_ball.groupby('match_id').agg(\n",
        "    drop_ball_count=('id', 'count')\n",
        ").reset_index()\n",
        "\n",
        "match_analysis_drop_ball"
      ]
    },
    {
      "cell_type": "markdown",
      "metadata": {
        "id": "SZARhRllUWOE"
      },
      "source": [
        "**df_clearance** - reviewed"
      ]
    },
    {
      "cell_type": "code",
      "execution_count": null,
      "metadata": {
        "id": "ee2f1jdkSxiB"
      },
      "outputs": [],
      "source": [
        "selected_columns = [\n",
        "    'id',\n",
        "    'match_id',\n",
        "    'location',\n",
        "    'period',\n",
        "    'possession',\n",
        "    'possession_team',\n",
        "    'under_pressure',\n",
        "    'home_team',\n",
        "    'home_team_flag',\n",
        "    'duration',\n",
        "    'counterpress',\n",
        "    'x',\n",
        "    'y',\n",
        "    'clearance_head',\n",
        "    'clearance_left_foot',\n",
        "    'clearance_right_foot'\n",
        "]\n",
        "# Check if the columns exist in the database\n",
        "df_clearance = new_dfs['df_clearance']\n",
        "\n",
        "existing_columns = [col for col in selected_columns if col in df_clearance.columns]\n",
        "\n",
        "# Create a new dataframe with only the existing selected columns\n",
        "df_final_matches_selected_clearance = df_clearance[existing_columns]\n",
        "df_final_matches_selected_clearance"
      ]
    },
    {
      "cell_type": "code",
      "execution_count": null,
      "metadata": {
        "id": "zmFhww13Sxfh"
      },
      "outputs": [],
      "source": [
        "# Group by match_id\n",
        "match_analysis_clearance = df_final_matches_selected_clearance.groupby('match_id').agg(\n",
        "    clearance_count=('id', 'count'),\n",
        "    clearance_proportion_period_1=('period', lambda x: (x == 1).mean()),\n",
        "    clearance_proportion_home_team=('home_team_flag', 'mean'),\n",
        "    clearance_start_mean=('x', 'mean'),\n",
        "    clearance_start_proportion_x_lt_60=('x', lambda x: (x < 60).mean()), # Proportion of carry start x location when x is less than 60\n",
        "    clearance_start_y_between_20_60_proportion=('y', lambda y: ((y >= 20) & (y <= 60)).mean()), # Proportion of carry start y location when y is between 20 and 60\n",
        "    clearance_head_proportion=('clearance_head', lambda x: x.fillna(False).mean()), # Handle potential NaNs in under_pressure\n",
        "    clearance_left_foot_proportion=('clearance_left_foot', lambda x: x.fillna(False).mean()), # Handle potential NaNs in under_pressure\n",
        "    clearance_right_foot_proportion=('clearance_right_foot', lambda x: x.fillna(False).mean()) # Handle potential NaNs in under_pressure\n",
        ").reset_index()\n",
        "\n",
        "match_analysis_clearance"
      ]
    },
    {
      "cell_type": "markdown",
      "metadata": {
        "id": "riI8J9xLYIX7"
      },
      "source": [
        "**df_offside** - reviewed"
      ]
    },
    {
      "cell_type": "code",
      "execution_count": null,
      "metadata": {
        "id": "to6Vi0jPSxdV"
      },
      "outputs": [],
      "source": [
        "selected_columns = [\n",
        "    'id',\n",
        "    'match_id',\n",
        "    'location',\n",
        "    'period',\n",
        "    'possession',\n",
        "    'possession_team',\n",
        "    'under_pressure',\n",
        "    'home_team',\n",
        "    'home_team_flag',\n",
        "    'duration',\n",
        "    'counterpress',\n",
        "    'x',\n",
        "    'y'\n",
        "]\n",
        "# Check if the columns exist in the database\n",
        "df_offside = new_dfs['df_offside']\n",
        "\n",
        "existing_columns = [col for col in selected_columns if col in df_offside.columns]\n",
        "\n",
        "# Create a new dataframe with only the existing selected columns\n",
        "df_final_matches_selected_offside = df_offside[existing_columns]\n",
        "df_final_matches_selected_offside"
      ]
    },
    {
      "cell_type": "code",
      "execution_count": null,
      "metadata": {
        "id": "UAlCwZNJSxWy"
      },
      "outputs": [],
      "source": [
        "# Group by match_id\n",
        "match_analysis_offside = df_final_matches_selected_offside.groupby('match_id').agg(\n",
        "    offside_count=('id', 'count')\n",
        ").reset_index()\n",
        "\n",
        "match_analysis_offside"
      ]
    },
    {
      "cell_type": "markdown",
      "metadata": {
        "id": "sQAX2fH7aIuF"
      },
      "source": [
        "**df_dribbled_past** - reviewed"
      ]
    },
    {
      "cell_type": "code",
      "execution_count": null,
      "metadata": {
        "id": "Fw2H2-rAZFnT"
      },
      "outputs": [],
      "source": [
        "selected_columns = [\n",
        "    'id',\n",
        "    'match_id',\n",
        "    'location',\n",
        "    'period',\n",
        "    'possession',\n",
        "    'possession_team',\n",
        "    'under_pressure',\n",
        "    'home_team',\n",
        "    'home_team_flag',\n",
        "    'duration',\n",
        "    'counterpress',\n",
        "    'x',\n",
        "    'y'\n",
        "]\n",
        "# Check if the columns exist in the database\n",
        "df_dribbled_past = new_dfs['df_dribbled_past']\n",
        "\n",
        "existing_columns = [col for col in selected_columns if col in df_dribbled_past.columns]\n",
        "\n",
        "# Create a new dataframe with only the existing selected columns\n",
        "df_final_matches_selected_dribbled_past = df_dribbled_past[existing_columns]\n",
        "df_final_matches_selected_dribbled_past"
      ]
    },
    {
      "cell_type": "code",
      "execution_count": null,
      "metadata": {
        "id": "OAwcBlNOZFfK"
      },
      "outputs": [],
      "source": [
        "# Group by match_id\n",
        "match_analysis_dribbled_past = df_final_matches_selected_dribbled_past.groupby('match_id').agg(\n",
        "    dribbled_past_count=('id', 'count'),\n",
        "    dribbled_past_proportion_period_1=('period', lambda x: (x == 1).mean()),\n",
        "    dribbled_past_proportion_home_team=('home_team_flag', 'mean'),\n",
        "    dribbled_past_counterpress_rate=('counterpress', lambda x: x.fillna(False).mean()),\n",
        "    dribble_past_start_mean=('x', 'mean'),\n",
        "    dribble_past_start_proportion_x_lt_60=('x', lambda x: (x < 60).mean()), # Proportion of carry start x location when x is less than 60\n",
        "    dribble_past_start_y_between_20_60_proportion=('y', lambda y: ((y >= 20) & (y <= 60)).mean()) # Proportion of carry start y location when y is between 20 and 60\n",
        ").reset_index()\n",
        "\n",
        "match_analysis_dribbled_past"
      ]
    },
    {
      "cell_type": "markdown",
      "metadata": {
        "id": "mSorIf0wcH-e"
      },
      "source": [
        "**df_player_off** - reviewed"
      ]
    },
    {
      "cell_type": "code",
      "execution_count": null,
      "metadata": {
        "id": "9rpF_2YKYKMP"
      },
      "outputs": [],
      "source": [
        "selected_columns = [\n",
        "    'id',\n",
        "    'match_id',\n",
        "    'location',\n",
        "    'period',\n",
        "    'possession',\n",
        "    'possession_team',\n",
        "    'under_pressure',\n",
        "    'home_team',\n",
        "    'home_team_flag',\n",
        "    'duration',\n",
        "    'counterpress',\n",
        "    'x',\n",
        "    'y'\n",
        "]\n",
        "# Check if the columns exist in the database\n",
        "df_player_off = new_dfs['df_player_off']\n",
        "\n",
        "existing_columns = [col for col in selected_columns if col in df_player_off.columns]\n",
        "\n",
        "# Create a new dataframe with only the existing selected columns\n",
        "df_final_matches_selected_off = df_player_off[existing_columns]\n",
        "df_final_matches_selected_off"
      ]
    },
    {
      "cell_type": "code",
      "execution_count": null,
      "metadata": {
        "id": "Xrm5_hETYKJt"
      },
      "outputs": [],
      "source": [
        "# Group by match_id\n",
        "match_analysis_off = df_final_matches_selected_off.groupby('match_id').agg(\n",
        "    off_count=('id', 'count')\n",
        ").reset_index()\n",
        "\n",
        "match_analysis_off"
      ]
    },
    {
      "cell_type": "markdown",
      "metadata": {
        "id": "SiCt6NsPcsuG"
      },
      "source": [
        "**df_substitution** - reviewed"
      ]
    },
    {
      "cell_type": "code",
      "execution_count": null,
      "metadata": {
        "id": "c5BBsLKBYKHm"
      },
      "outputs": [],
      "source": [
        "selected_columns = [\n",
        "    'id',\n",
        "    'match_id',\n",
        "    'location',\n",
        "    'period',\n",
        "    'possession',\n",
        "    'possession_team',\n",
        "    'under_pressure',\n",
        "    'home_team',\n",
        "    'home_team_flag',\n",
        "    'duration',\n",
        "    'counterpress',\n",
        "    'x',\n",
        "    'y'\n",
        "]\n",
        "# Check if the columns exist in the database\n",
        "df_substitution = new_dfs['df_substitution']\n",
        "\n",
        "existing_columns = [col for col in selected_columns if col in df_substitution.columns]\n",
        "\n",
        "# Create a new dataframe with only the existing selected columns\n",
        "df_final_matches_selected_substitution = df_substitution[existing_columns]\n",
        "df_final_matches_selected_substitution"
      ]
    },
    {
      "cell_type": "code",
      "execution_count": null,
      "metadata": {
        "id": "RhvS8NI9YKFE"
      },
      "outputs": [],
      "source": [
        "# Group by match_id\n",
        "match_analysis_substitution = df_final_matches_selected_substitution.groupby('match_id').agg(\n",
        "    substitution_count=('id', 'count'),\n",
        "    substitution_proportion_period_1=('period', lambda x: (x == 1).mean()),\n",
        "    substitution_proportion_home_team=('home_team_flag', 'mean')\n",
        ").reset_index()\n",
        "\n",
        "match_analysis_substitution"
      ]
    },
    {
      "cell_type": "markdown",
      "metadata": {
        "id": "JMcT-SdndjEd"
      },
      "source": [
        "**df_bad_behaviour** - reviewed"
      ]
    },
    {
      "cell_type": "code",
      "execution_count": null,
      "metadata": {
        "id": "y77XmxTSYJ_1"
      },
      "outputs": [],
      "source": [
        "selected_columns = [\n",
        "    'id',\n",
        "    'match_id',\n",
        "    'location',\n",
        "    'period',\n",
        "    'possession',\n",
        "    'possession_team',\n",
        "    'under_pressure',\n",
        "    'home_team',\n",
        "    'home_team_flag',\n",
        "    'duration',\n",
        "    'counterpress',\n",
        "    'x',\n",
        "    'y',\n",
        "    'bad_behaviour_card'\n",
        "]\n",
        "# Check if the columns exist in the database\n",
        "df_bad_behaviour = new_dfs['df_bad_behaviour']\n",
        "\n",
        "existing_columns = [col for col in selected_columns if col in df_bad_behaviour.columns]\n",
        "\n",
        "# Create a new dataframe with only the existing selected columns\n",
        "df_final_matches_selected_bad_behaviour = df_bad_behaviour[existing_columns]\n",
        "df_final_matches_selected_bad_behaviour"
      ]
    },
    {
      "cell_type": "code",
      "execution_count": null,
      "metadata": {
        "id": "V_-B0cCgYJ78"
      },
      "outputs": [],
      "source": [
        "# Group by match_id\n",
        "match_analysis_bad_behaviour = df_final_matches_selected_bad_behaviour.groupby('match_id').agg(\n",
        "    bad_behaviour_count=('id', 'count'),\n",
        "    bad_behaviour_proportion_period_1=('period', lambda x: (x == 1).mean()),\n",
        "    bad_behaviour_proportion_home_team=('home_team_flag', 'mean'),\n",
        "    bad_behaviour_yellow_card_proportion=('bad_behaviour_card', lambda x: (x == 'Yellow Card').mean())\n",
        ").reset_index()\n",
        "\n",
        "match_analysis_bad_behaviour"
      ]
    },
    {
      "cell_type": "markdown",
      "metadata": {
        "id": "cqVol7xld3GH"
      },
      "source": [
        "**df_tactical_shift** - reviewed"
      ]
    },
    {
      "cell_type": "code",
      "execution_count": null,
      "metadata": {
        "id": "KG9wJhjYcXji"
      },
      "outputs": [],
      "source": [
        "selected_columns = [\n",
        "    'id',\n",
        "    'match_id',\n",
        "    'location',\n",
        "    'period',\n",
        "    'possession',\n",
        "    'possession_team',\n",
        "    'under_pressure',\n",
        "    'home_team',\n",
        "    'home_team_flag',\n",
        "    'duration',\n",
        "    'counterpress',\n",
        "    'x',\n",
        "    'y'\n",
        "]\n",
        "# Check if the columns exist in the database\n",
        "df_tactical_shift = new_dfs['df_tactical_shift']\n",
        "\n",
        "existing_columns = [col for col in selected_columns if col in df_tactical_shift.columns]\n",
        "\n",
        "# Create a new dataframe with only the existing selected columns\n",
        "df_final_matches_selected_tactical_shift = df_tactical_shift[existing_columns]\n",
        "df_final_matches_selected_tactical_shift"
      ]
    },
    {
      "cell_type": "code",
      "execution_count": null,
      "metadata": {
        "id": "hZ_3lvSocXhb"
      },
      "outputs": [],
      "source": [
        "# Group by match_id\n",
        "match_analysis_tactical_shift = df_final_matches_selected_bad_behaviour.groupby('match_id').agg(\n",
        "    tactical_shift_count=('id', 'count'),\n",
        "    tactical_shift_proportion_period_1=('period', lambda x: (x == 1).mean()),\n",
        "    tactical_shift_proportion_home_team=('home_team_flag', 'mean')\n",
        ").reset_index()\n",
        "\n",
        "match_analysis_tactical_shift"
      ]
    },
    {
      "cell_type": "code",
      "execution_count": null,
      "metadata": {
        "id": "DyPEKGrtbbRB"
      },
      "outputs": [],
      "source": [
        "\n",
        "# List of dataframes to join\n",
        "analysis_dfs = [\n",
        "    match_analysis,\n",
        "    df_wwc_subset,\n",
        "    match_analysis_pass,\n",
        "    match_analysis_carry,\n",
        "    match_analysis_pressure,\n",
        "    match_analysis_miscontrol,\n",
        "    match_analysis_dribble,\n",
        "    match_analysis_duel,\n",
        "    match_analysis_interception,\n",
        "    match_analysis_ball_recovery,\n",
        "    match_analysis_dispossessed,\n",
        "    match_analysis_foul_committed,\n",
        "    match_analysis_foul_won,\n",
        "    match_analysis_injury_stoppage,\n",
        "    match_analysis_drop_ball,\n",
        "    match_analysis_clearance,\n",
        "    match_analysis_offside,\n",
        "    match_analysis_dribbled_past,\n",
        "    match_analysis_off,\n",
        "    match_analysis_substitution,\n",
        "    match_analysis_bad_behaviour,\n",
        "    match_analysis_tactical_shift,\n",
        "    match_analysis_shot\n",
        "]\n",
        "\n",
        "# Start with the first dataframe\n",
        "match_analysis = analysis_dfs[0]\n",
        "\n",
        "# Join the remaining dataframes iteratively\n",
        "for df in analysis_dfs[1:]:\n",
        "    match_analysis = pd.merge(match_analysis, df, on='match_id', how='outer')\n",
        "\n",
        "# Display the merged dataframe\n",
        "print(match_analysis.head())"
      ]
    }
  ],
  "metadata": {
    "colab": {
      "gpuType": "T4",
      "provenance": []
    },
    "kernelspec": {
      "display_name": "Python 3",
      "name": "python3"
    },
    "language_info": {
      "name": "python"
    }
  },
  "nbformat": 4,
  "nbformat_minor": 0
}
